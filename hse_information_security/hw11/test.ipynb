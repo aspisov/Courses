{
 "cells": [
  {
   "cell_type": "code",
   "execution_count": 18,
   "metadata": {},
   "outputs": [],
   "source": [
    "import math\n",
    "\n",
    "n = 18247\n",
    "m = 257"
   ]
  },
  {
   "cell_type": "code",
   "execution_count": 10,
   "metadata": {},
   "outputs": [
    {
     "name": "stdout",
     "output_type": "stream",
     "text": [
      "False\n",
      "True\n"
     ]
    }
   ],
   "source": [
    "def sieve_eratosthenes(n):\n",
    "    prime_mask = [True] * (n + 1)\n",
    "    prime_mask[0] = prime_mask[1] = False\n",
    "    for start in range(2, int(n**0.5) + 1):\n",
    "        if prime_mask[start]:\n",
    "            for multiple in range(start*start, n + 1, start):\n",
    "                prime_mask[multiple] = False\n",
    "    primes = [num for num, is_prime in enumerate(prime_mask) if is_prime]\n",
    "    return primes\n",
    "\n",
    "\n",
    "primes = sieve_eratosthenes(20000)\n",
    "print(n in primes)\n",
    "print(m in primes)"
   ]
  },
  {
   "cell_type": "code",
   "execution_count": null,
   "metadata": {},
   "outputs": [
    {
     "name": "stdout",
     "output_type": "stream",
     "text": [
      "14970\n"
     ]
    }
   ],
   "source": [
    "def power(a, b, m):\n",
    "    res = 1\n",
    "    while b > 0:\n",
    "        if b % 2 == 1:\n",
    "            res = res * a % m\n",
    "        a = a * a % m\n",
    "        b //= 2\n",
    "    return res\n",
    "\n",
    "\n",
    "print(power(2, n - 1, n))"
   ]
  },
  {
   "cell_type": "code",
   "execution_count": null,
   "metadata": {},
   "outputs": [
    {
     "name": "stdout",
     "output_type": "stream",
     "text": [
      "(71, 257)\n"
     ]
    }
   ],
   "source": [
    "def fermat_algorithm(n):\n",
    "    u, v = round(math.sqrt(n)), 0\n",
    "    r = u**2 - v**2 - n\n",
    "    while r != 0:\n",
    "        if r > 0:\n",
    "            v += 1\n",
    "        else:\n",
    "            u += 1\n",
    "        r = u**2 - v**2 - n\n",
    "    return u - v, u + v\n",
    "\n",
    "\n",
    "print(fermat_algorithm(n))"
   ]
  },
  {
   "cell_type": "code",
   "execution_count": null,
   "metadata": {},
   "outputs": [],
   "source": []
  }
 ],
 "metadata": {
  "kernelspec": {
   "display_name": "base",
   "language": "python",
   "name": "python3"
  },
  "language_info": {
   "codemirror_mode": {
    "name": "ipython",
    "version": 3
   },
   "file_extension": ".py",
   "mimetype": "text/x-python",
   "name": "python",
   "nbconvert_exporter": "python",
   "pygments_lexer": "ipython3",
   "version": "3.12.4"
  }
 },
 "nbformat": 4,
 "nbformat_minor": 2
}
