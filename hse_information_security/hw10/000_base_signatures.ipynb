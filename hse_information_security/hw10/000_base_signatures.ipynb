{
 "cells": [
  {
   "cell_type": "markdown",
   "id": "7189e55ab33dfe12",
   "metadata": {},
   "source": [
    "# Some utils"
   ]
  },
  {
   "cell_type": "code",
   "execution_count": 1,
   "id": "6deeb3741522a291",
   "metadata": {
    "ExecuteTime": {
     "end_time": "2024-11-05T11:07:43.674704Z",
     "start_time": "2024-11-05T11:07:43.671822Z"
    }
   },
   "outputs": [],
   "source": [
    "def phi(n):\n",
    "    result = n\n",
    "    p = 2\n",
    "    while p * p <= n:\n",
    "        if n % p == 0:\n",
    "            while n % p == 0:\n",
    "                n //= p\n",
    "            result -= result // p\n",
    "        p += 1\n",
    "    if n > 1:\n",
    "        result -= result // n\n",
    "    return result\n",
    "\n",
    "assert(phi(5) == 4)\n",
    "assert(phi(6) == 2)\n",
    "assert(phi(12) == 4)"
   ]
  },
  {
   "cell_type": "code",
   "execution_count": 2,
   "id": "b9eecc7d42792033",
   "metadata": {
    "ExecuteTime": {
     "end_time": "2024-11-05T11:07:44.920581Z",
     "start_time": "2024-11-05T11:07:44.917374Z"
    }
   },
   "outputs": [],
   "source": [
    "def nod(a, b):\n",
    "    while a != 0 and b != 0:\n",
    "        if a > b:\n",
    "            a = a % b\n",
    "        else:\n",
    "            b = b % a\n",
    "    return a + b\n",
    "\n",
    "assert(nod(1, 1) == 1)\n",
    "assert(nod(5, 1) == 1)\n",
    "assert(nod(5, 10) == 5)\n",
    "assert(nod(12, 18) == 6)"
   ]
  },
  {
   "cell_type": "code",
   "execution_count": 3,
   "id": "2072e71ab066aab7",
   "metadata": {
    "ExecuteTime": {
     "end_time": "2024-11-05T11:07:45.296546Z",
     "start_time": "2024-11-05T11:07:45.294653Z"
    }
   },
   "outputs": [],
   "source": [
    "def mod_inverse(a, m):\n",
    "  for x in range(1, m):\n",
    "    if (a * x) % m == 1:\n",
    "      return x\n",
    "  return None"
   ]
  },
  {
   "cell_type": "code",
   "execution_count": 4,
   "id": "1d134ae562de90ff",
   "metadata": {
    "ExecuteTime": {
     "end_time": "2024-11-05T11:07:45.675577Z",
     "start_time": "2024-11-05T11:07:45.672534Z"
    }
   },
   "outputs": [],
   "source": [
    "def is_primitive_root(g, p):\n",
    "  phi_p = p - 1\n",
    "  powers = set()\n",
    "  for i in range(1, phi_p):\n",
    "    power = pow(g, i, p)\n",
    "    if power in powers:\n",
    "      return False\n",
    "    powers.add(power)\n",
    "  return True\n",
    "\n",
    "def find_primitive_root(p):\n",
    "  for g in range(2, p):\n",
    "    if is_primitive_root(g, p):\n",
    "      return g\n",
    "  return None"
   ]
  },
  {
   "cell_type": "markdown",
   "id": "df6f2ec12593e43",
   "metadata": {},
   "source": [
    "# RSA"
   ]
  },
  {
   "cell_type": "code",
   "execution_count": 5,
   "id": "initial_id",
   "metadata": {
    "ExecuteTime": {
     "end_time": "2024-11-05T11:07:46.464940Z",
     "start_time": "2024-11-05T11:07:46.462998Z"
    },
    "collapsed": true
   },
   "outputs": [],
   "source": [
    "p = 13\n",
    "q = 17\n",
    "\n",
    "n = p * q\n",
    "\n",
    "e = 7\n",
    "assert(nod(e, phi(n)) == 1)\n",
    "\n",
    "d = mod_inverse(e, phi(n))\n",
    "assert(d is not None)"
   ]
  },
  {
   "cell_type": "code",
   "execution_count": null,
   "id": "775a52f2788558a9",
   "metadata": {
    "ExecuteTime": {
     "end_time": "2024-11-05T11:08:01.974431Z",
     "start_time": "2024-11-05T11:08:01.972478Z"
    }
   },
   "outputs": [],
   "source": [
    "h = 42\n",
    "s = h**d % n"
   ]
  },
  {
   "cell_type": "code",
   "execution_count": 7,
   "id": "4541632b0fc26572",
   "metadata": {
    "ExecuteTime": {
     "end_time": "2024-11-05T11:08:26.849820Z",
     "start_time": "2024-11-05T11:08:26.847445Z"
    }
   },
   "outputs": [],
   "source": [
    "new_h = (s ** e) % n\n",
    "assert(h == new_h)"
   ]
  },
  {
   "cell_type": "markdown",
   "id": "d33d2b757bf4b8c5",
   "metadata": {},
   "source": [
    "# Эль-Гамаль"
   ]
  },
  {
   "cell_type": "code",
   "execution_count": 8,
   "id": "f4f6163baa0435e1",
   "metadata": {
    "ExecuteTime": {
     "end_time": "2024-11-05T11:08:41.800622Z",
     "start_time": "2024-11-05T11:08:41.797761Z"
    }
   },
   "outputs": [],
   "source": [
    "p = 17\n",
    "g = find_primitive_root(p)\n",
    "x = 13\n",
    "\n",
    "y = (g ** x) % p"
   ]
  },
  {
   "cell_type": "code",
   "execution_count": 9,
   "id": "bb6fdd879e68ca38",
   "metadata": {
    "ExecuteTime": {
     "end_time": "2024-11-05T11:08:45.913839Z",
     "start_time": "2024-11-05T11:08:45.911280Z"
    }
   },
   "outputs": [],
   "source": [
    "h = 42\n",
    "k = 9\n",
    "\n",
    "r = (g ** k) % p\n",
    "s = ((h - x * r) * mod_inverse(k, p - 1)) % (p - 1)"
   ]
  },
  {
   "cell_type": "code",
   "execution_count": 10,
   "id": "ef14894bce6be788",
   "metadata": {
    "ExecuteTime": {
     "end_time": "2024-11-05T11:08:48.512613Z",
     "start_time": "2024-11-05T11:08:48.510333Z"
    }
   },
   "outputs": [],
   "source": [
    "v_1 = (y ** r * r ** s) % p\n",
    "v_2 = (g ** h) % p\n",
    "assert(v_1 == v_2)"
   ]
  },
  {
   "cell_type": "code",
   "execution_count": null,
   "id": "ff1572a7c528bf31",
   "metadata": {},
   "outputs": [],
   "source": []
  }
 ],
 "metadata": {
  "kernelspec": {
   "display_name": "base",
   "language": "python",
   "name": "python3"
  },
  "language_info": {
   "codemirror_mode": {
    "name": "ipython",
    "version": 3
   },
   "file_extension": ".py",
   "mimetype": "text/x-python",
   "name": "python",
   "nbconvert_exporter": "python",
   "pygments_lexer": "ipython3",
   "version": "3.12.4"
  }
 },
 "nbformat": 4,
 "nbformat_minor": 5
}
