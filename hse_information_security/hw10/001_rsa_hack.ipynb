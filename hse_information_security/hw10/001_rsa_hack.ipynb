{
 "cells": [
  {
   "cell_type": "markdown",
   "id": "f21952306ef4e04a",
   "metadata": {},
   "source": [
    "# Задание 1\n",
    "\n",
    "Алиса решила передать сообщение, подписав его при помощи RSA.\n",
    "Она создала пару ключей, подписала сообщение и отправила его Бобу.\n",
    "\n",
    "Но почтальон решил подшутить и подменить сообщение, так как Алиса проспала доклад про ЭП по RSA и не узнала про уязвимости этой ЭП.\n",
    "\n",
    "Дано:\n",
    "- `001_true.txt` - сообщение Алисы\n",
    "- `001_true.sign` - подпись Алисы\n",
    "- `001_fake.txt` - новое сообщение\n",
    "- функция `hash`, которой пользовалась Алиса\n",
    "- публичный ключ (ниже)\n",
    "\n",
    "Нужно:\n",
    "\n",
    "- `001_fake.sign` - подпись на новом сообщении"
   ]
  },
  {
   "cell_type": "code",
   "execution_count": null,
   "id": "2ae96e0f",
   "metadata": {},
   "outputs": [],
   "source": [
    "def hash(path: str, n: int) -> int:\n",
    "    res = 0\n",
    "    with open(path, \"rb\") as f:\n",
    "        for i in f.read():\n",
    "            res = (res + i) ** 2 % n\n",
    "    return res\n",
    "\n",
    "def read_signature(path: str) -> int:\n",
    "    with open(path, 'rb') as f:\n",
    "        return int.from_bytes(f.read(), 'big')\n",
    "\n",
    "def write_signature(number: int, path: str):\n",
    "    with open(path, 'wb') as f:\n",
    "        f.write(number.to_bytes((number.bit_length() + 7) // 8, 'big'))\n",
    "\n",
    "def calculate_root(signature: int, e: int, n: int) -> int:\n",
    "    return pow(signature, e, n)\n",
    "\n",
    "def forge_signature(true_msg_hash: int, fake_msg_hash: int, true_signature: int, e: int, n: int) -> int:\n",
    "    m = calculate_root(true_signature, e, n)\n",
    "    diff = (fake_msg_hash - true_msg_hash) % n\n",
    "    \n",
    "    new_signature = (true_signature * pow(diff + 1, pow(e, -1, n), n)) % n\n",
    "    return new_signature\n",
    "\n"
   ]
  },
  {
   "cell_type": "code",
   "execution_count": null,
   "id": "40ce4037",
   "metadata": {},
   "outputs": [],
   "source": [
    "def main():\n",
    "    n = 1915327\n",
    "    e = 21133\n",
    "    \n",
    "    true_signature = read_signature('data/001_true.sign')\n",
    "    \n",
    "    true_msg_hash = hash('data/001_true.txt', n)\n",
    "    fake_msg_hash = hash('data/001_fake.txt', n)\n",
    "    \n",
    "    fake_signature = forge_signature(true_msg_hash, fake_msg_hash, true_signature, e, n)\n",
    "    \n",
    "    write_signature(fake_signature, 'data/001_fake.sign')\n",
    "\n",
    "if __name__ == '__main__':\n",
    "    main()"
   ]
  },
  {
   "cell_type": "code",
   "execution_count": 12,
   "id": "a9c851df",
   "metadata": {},
   "outputs": [
    {
     "data": {
      "text/plain": [
       "1093398"
      ]
     },
     "execution_count": 12,
     "metadata": {},
     "output_type": "execute_result"
    }
   ],
   "source": [
    "read_signature('data/001_fake.sign')"
   ]
  },
  {
   "cell_type": "code",
   "execution_count": null,
   "id": "42d74a0c",
   "metadata": {},
   "outputs": [],
   "source": []
  }
 ],
 "metadata": {
  "kernelspec": {
   "display_name": "base",
   "language": "python",
   "name": "python3"
  },
  "language_info": {
   "codemirror_mode": {
    "name": "ipython",
    "version": 3
   },
   "file_extension": ".py",
   "mimetype": "text/x-python",
   "name": "python",
   "nbconvert_exporter": "python",
   "pygments_lexer": "ipython3",
   "version": "3.12.4"
  }
 },
 "nbformat": 4,
 "nbformat_minor": 5
}
