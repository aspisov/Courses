{
 "cells": [
  {
   "cell_type": "markdown",
   "id": "2eefcab95fe64e2b",
   "metadata": {},
   "source": [
    "# Задача 2.0\n",
    "##### Обмен секретным ключом по алгоритму Диффи-Хеллмана на основе Эль-Гамаля\n",
    "\n",
    "Алгоритм Диффи-Хеллмана позволяет двум сторонам установить общий секретный ключ по незащищенному каналу связи. Этот ключ затем может быть использован для симметричного шифрования.  Реализуйте обмен ключами Диффи-Хеллмана, используя принципы Эль-Гамаля.\n",
    "\n",
    "### Этапы реализации:\n",
    "\n",
    "1) **Выбор общих параметров:**\n",
    "\n",
    "    Выберите большое простое число p и генератор g группы.\n",
    "\n",
    "2) **Генерация ключей:**\n",
    "\n",
    "    Алиса выбирает случайное число $a$ (секретный ключ Алисы) и вычисляет $A = g^a \\mod p$ (открытый ключ Алисы).\n",
    "    \n",
    "    Боб выбирает случайное число $b$ (секретный ключ Боба) и вычисляет $B = g^b \\mod p$ (открытый ключ Боба).\n",
    "\n",
    "3) **Обмен ключами:**\n",
    "\n",
    "    Алиса отправляет Бобу свой открытый ключ $A$.\n",
    "\n",
    "    Боб отправляет Алисе свой открытый ключ $B$.\n",
    "\n",
    "4) **Вычисление общего секретного ключа:**\n",
    "\n",
    "    Алиса вычисляет общий секретный ключ $K = B^a \\mod p$.\n",
    "    \n",
    "    Боб вычисляет общий секретный ключ $K = A^b \\mod p$.\n",
    "\n"
   ]
  },
  {
   "cell_type": "code",
   "execution_count": 1,
   "id": "5739e8f7a29b9744",
   "metadata": {},
   "outputs": [
    {
     "name": "stdout",
     "output_type": "stream",
     "text": [
      "Алиса получила ключ: 81669704176781439743425084708964184224458896296432245030819124290350173936444\n",
      "Боб получил ключ:    81669704176781439743425084708964184224458896296432245030819124290350173936444\n",
      "Ключи совпадают!\n"
     ]
    }
   ],
   "source": [
    "import random\n",
    "from typing import Tuple\n",
    "\n",
    "class DHParticipant:\n",
    "    def __init__(self, p: int, g: int):\n",
    "        self.p = p\n",
    "        self.g = g\n",
    "        self._private_key = None\n",
    "        self._public_key = None\n",
    "        self._shared_key = None\n",
    "\n",
    "    def generate_keys(self) -> int:\n",
    "        self._private_key = random.randint(2, self.p - 2)\n",
    "        self._public_key = pow(self.g, self._private_key, self.p)\n",
    "        return self._public_key\n",
    "\n",
    "    def compute_shared_key(self, other_public_key: int) -> int:\n",
    "        if self._private_key is None:\n",
    "            raise ValueError(\"Сначала нужно сгенерировать ключи\")\n",
    "        \n",
    "        self._shared_key = pow(other_public_key, self._private_key, self.p)\n",
    "        return self._shared_key\n",
    "\n",
    "    @property\n",
    "    def shared_key(self) -> int:\n",
    "        if self._shared_key is None:\n",
    "            raise ValueError(\"Общий ключ еще не вычислен\")\n",
    "        return self._shared_key\n",
    "\n",
    "def generate_params(bit_length: int = 256) -> Tuple[int, int]:\n",
    "    p = 0xFFFFFFFFFFFFFFFFC90FDAA22168C234C4C6628B80DC1CD129024E088A67CC74\n",
    "    g = 2\n",
    "    return p, g\n",
    "\n",
    "def run_key_exchange() -> Tuple[int, int]:\n",
    "    p, g = generate_params()\n",
    "\n",
    "    alice = DHParticipant(p, g)\n",
    "    bob = DHParticipant(p, g)\n",
    "\n",
    "    alice_public = alice.generate_keys()\n",
    "    bob_public = bob.generate_keys()\n",
    "\n",
    "    alice_shared = alice.compute_shared_key(bob_public)\n",
    "    bob_shared = bob.compute_shared_key(alice_public)\n",
    "\n",
    "    return alice_shared, bob_shared\n",
    "\n",
    "def main():\n",
    "    try:\n",
    "        alice_key, bob_key = run_key_exchange()\n",
    "        \n",
    "        print(f\"Алиса получила ключ: {alice_key}\")\n",
    "        print(f\"Боб получил ключ:    {bob_key}\")\n",
    "        print(f\"Ключи {'совпадают' if alice_key == bob_key else 'не совпадают'}!\")\n",
    "        \n",
    "    except Exception as e:\n",
    "        print(f\"Произошла ошибка: {e}\")\n",
    "\n",
    "if __name__ == \"__main__\":\n",
    "    main()"
   ]
  },
  {
   "cell_type": "code",
   "execution_count": null,
   "id": "fc4b2ae4",
   "metadata": {},
   "outputs": [],
   "source": []
  }
 ],
 "metadata": {
  "kernelspec": {
   "display_name": "base",
   "language": "python",
   "name": "python3"
  },
  "language_info": {
   "codemirror_mode": {
    "name": "ipython",
    "version": 3
   },
   "file_extension": ".py",
   "mimetype": "text/x-python",
   "name": "python",
   "nbconvert_exporter": "python",
   "pygments_lexer": "ipython3",
   "version": "3.12.4"
  }
 },
 "nbformat": 4,
 "nbformat_minor": 5
}
