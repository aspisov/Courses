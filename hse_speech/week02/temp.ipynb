{
 "cells": [
  {
   "cell_type": "code",
   "execution_count": 1,
   "metadata": {},
   "outputs": [],
   "source": [
    "import librosa\n",
    "from speechmos import dnsmos\n",
    "\n",
    "# Load your audio file\n",
    "audio, _ = librosa.load(\"testVoiceTrack.wav\", sr=16000)"
   ]
  },
  {
   "cell_type": "code",
   "execution_count": 2,
   "metadata": {},
   "outputs": [
    {
     "name": "stdout",
     "output_type": "stream",
     "text": [
      "{'ovrl_mos': 3.1607772954954516, 'sig_mos': 3.5747675903747576, 'bak_mos': 3.7733159560088594, 'p808_mos': 3.792542}\n"
     ]
    }
   ],
   "source": [
    "# Run DNSMOS\n",
    "results = dnsmos.run(audio, sr=16000)\n",
    "\n",
    "print(results)"
   ]
  },
  {
   "cell_type": "code",
   "execution_count": null,
   "metadata": {},
   "outputs": [],
   "source": [
    "{'ovrl_mos': 3.1607772954954516, 'sig_mos': 3.5747675903747576, 'bak_mos': 3.7733159560088594, 'p808_mos': 3.792542}"
   ]
  }
 ],
 "metadata": {
  "kernelspec": {
   "display_name": "base",
   "language": "python",
   "name": "python3"
  },
  "language_info": {
   "codemirror_mode": {
    "name": "ipython",
    "version": 3
   },
   "file_extension": ".py",
   "mimetype": "text/x-python",
   "name": "python",
   "nbconvert_exporter": "python",
   "pygments_lexer": "ipython3",
   "version": "3.12.4"
  }
 },
 "nbformat": 4,
 "nbformat_minor": 2
}
